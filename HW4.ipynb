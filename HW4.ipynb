{
  "metadata": {
    "kernelspec": {
      "name": "python",
      "display_name": "Python (Pyodide)",
      "language": "python"
    },
    "language_info": {
      "codemirror_mode": {
        "name": "python",
        "version": 3
      },
      "file_extension": ".py",
      "mimetype": "text/x-python",
      "name": "python",
      "nbconvert_exporter": "python",
      "pygments_lexer": "ipython3",
      "version": "3.8"
    }
  },
  "nbformat_minor": 5,
  "nbformat": 4,
  "cells": [
    {
      "id": "97b2af23-9863-48b8-9999-34482d42e96e",
      "cell_type": "code",
      "source": "def WhoAmI():\n    return \"xl3363\"\nWhoAmI()",
      "metadata": {
        "trusted": true
      },
      "outputs": [
        {
          "execution_count": 1,
          "output_type": "execute_result",
          "data": {
            "text/plain": "'xl3363'"
          },
          "metadata": {}
        }
      ],
      "execution_count": 1
    },
    {
      "id": "8dc7c9e6-8a6c-4293-9a3e-9e8e20d018e4",
      "cell_type": "code",
      "source": "def getBondPrice(y,face,couponRate,m,ppy=1):\n    cf = couponRate * face/ppy\n    pvcfsum = 0\n    y1 = y/ppy\n    m1 = m*ppy\n    for i in range(m1):\n        pvm = (1+y1)**-(i+1)\n        pvcf = pvm * cf\n        pvcfsum = pvcf + pvcfsum\n    bondprice = pvcfsum + face * (1+y1)**-m1\n    return bondprice\n\ny = 0.03\nface = 2000000\ncouponRate = 0.04\nm = 10\nppy = 2\ngetBondPrice(y,face,couponRate,m,ppy=1)\n",
      "metadata": {
        "trusted": true
      },
      "outputs": [
        {
          "execution_count": 2,
          "output_type": "execute_result",
          "data": {
            "text/plain": "2170604.0567355165"
          },
          "metadata": {}
        }
      ],
      "execution_count": 2
    },
    {
      "id": "48e9a269-1e49-42b5-b2a5-f40943b1743e",
      "cell_type": "code",
      "source": "def getBondDuration(y,face,couponRate,m,ppy=1):\n    y1 = y/ppy\n    m1 = m * ppy\n    cf = couponRate * face / ppy\n    pvcfsum = 0\n    weightedsum = 0\n    for i in range(m1):\n        pvm = (1+y1)**-(i+1)\n        pvcf = pvm * cf\n        pvcfsum = pvcf + pvcfsum\n        weightedsum = pvcf * (i+1) + weightedsum\n    totalbondprice = pvcfsum + face*(1+y1)**-m1\n    totalweighted = weightedsum + m1*face*(1+y1)**-m1\n    bondduration = totalweighted/totalbondprice\n    return bondduration\n\ny = 0.03\nface = 2000000\ncouponRate = 0.04\nm = 10\nppy = 2\ngetBondDuration(y,face,couponRate,m,ppy=1)\n            ",
      "metadata": {
        "trusted": true
      },
      "outputs": [
        {
          "execution_count": 3,
          "output_type": "execute_result",
          "data": {
            "text/plain": "8.508690304459574"
          },
          "metadata": {}
        }
      ],
      "execution_count": 3
    },
    {
      "id": "d3ad1a13-3cef-4a94-86fe-9fe8bf50dc56",
      "cell_type": "code",
      "source": "def getBondPrice_E(face, couponRate, m, yc):\n    m = len(yc)\n    bondprice = 0\n    for t,y in enumerate (yc):\n        cf = face * couponRate if t+1 < m else face * (1+couponRate)\n        pvm = 1/(1+y)**(t+1)\n        pvcf = cf*pvm\n    bondPrice = bondprice + pvcf\n    \n    return(bondPrice)\n\n# Test values\n\nyc = [.010,.015,.020,.025,.030]\nface = 2000000\ncouponRate = .04\ngetBondPrice_E(face, couponRate, m, yc)",
      "metadata": {
        "trusted": true
      },
      "outputs": [
        {
          "execution_count": 4,
          "output_type": "execute_result",
          "data": {
            "text/plain": "1794226.271519061"
          },
          "metadata": {}
        }
      ],
      "execution_count": 4
    },
    {
      "id": "262ad376-ff8e-483e-8f9a-d58c26b3b1f7",
      "cell_type": "code",
      "source": "def getBondPrice_Z(face, couponRate, times, yc):\n    cf=couponRate*face   \n    pvcfsum =  0\n    for t,r in zip(times, yc):\n        pvcf=cf/(1+r)**t\n        pvcfsum = pvcfsum + pvcf\n    bondPrice=pvcfsum + face/(1+yc[-1])**times[-1]\n    return(bondPrice)\n\n# Test values\nyc = [.010,.015,.020,.025,.030]\ntimes=[1,1.5,3,4,7]\nface = 2000000\ncouponRate = .04\ngetBondPrice_Z(face, couponRate, times, yc)",
      "metadata": {
        "trusted": true
      },
      "outputs": [
        {
          "execution_count": 5,
          "output_type": "execute_result",
          "data": {
            "text/plain": "1996533.2719139736"
          },
          "metadata": {}
        }
      ],
      "execution_count": 5
    },
    {
      "id": "567381e9-8d25-4da6-887d-a7cf8067f6dd",
      "cell_type": "code",
      "source": "def FizzBuzz(start, finish):\n    outlist = []\n    for i in range(start,finish+1):\n        if i%3 == 0 and i%5 ==0:\n            outlist.append(\"fizzbuzz\")\n        elif i%3 == 0:\n            outlist.append(\"fizz\")\n        elif i%5 == 0:\n            outlist.append(\"buzz\")\n        else:\n            outlist.append(i)\n    return(outlist)\n\nFizzBuzz(1,15)",
      "metadata": {
        "trusted": true
      },
      "outputs": [
        {
          "execution_count": 6,
          "output_type": "execute_result",
          "data": {
            "text/plain": "[1,\n 2,\n 'fizz',\n 4,\n 'buzz',\n 'fizz',\n 7,\n 8,\n 'fizz',\n 'buzz',\n 11,\n 'fizz',\n 13,\n 14,\n 'fizzbuzz']"
          },
          "metadata": {}
        }
      ],
      "execution_count": 6
    }
  ]
}